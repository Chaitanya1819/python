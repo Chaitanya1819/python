{
 "cells": [
  {
   "cell_type": "code",
   "execution_count": 1,
   "metadata": {},
   "outputs": [
    {
     "name": "stdout",
     "output_type": "stream",
     "text": [
      "RCB will Win\n"
     ]
    }
   ],
   "source": [
    "n= 18\n",
    "if n>15:\n",
    "    print(\"RCB will Win\")\n",
    "else:\n",
    "    print(\"CSK will win\")"
   ]
  },
  {
   "cell_type": "code",
   "execution_count": 3,
   "metadata": {},
   "outputs": [
    {
     "name": "stdout",
     "output_type": "stream",
     "text": [
      "age =  25\n"
     ]
    }
   ],
   "source": [
    "v= 100\n",
    "name =\"Chaitu\"\n",
    "is_true = True\n",
    "age= 25\n",
    "print(\"age = \",age)"
   ]
  },
  {
   "cell_type": "code",
   "execution_count": 4,
   "metadata": {},
   "outputs": [
    {
     "name": "stdout",
     "output_type": "stream",
     "text": [
      "sum is 37.0\n"
     ]
    }
   ],
   "source": [
    "a = float(input(\"Enter  a Number1\"))\n",
    "b = float(input(\"Enter a number2\"))\n",
    "\n",
    "sum = a+b\n",
    "difference = a-b\n",
    "mul = a*b\n",
    "div = a/b\n",
    "\n",
    "print(\"sum is\",sum)"
   ]
  }
 ],
 "metadata": {
  "kernelspec": {
   "display_name": "Python 3",
   "language": "python",
   "name": "python3"
  },
  "language_info": {
   "codemirror_mode": {
    "name": "ipython",
    "version": 3
   },
   "file_extension": ".py",
   "mimetype": "text/x-python",
   "name": "python",
   "nbconvert_exporter": "python",
   "pygments_lexer": "ipython3",
   "version": "3.12.0"
  }
 },
 "nbformat": 4,
 "nbformat_minor": 2
}
